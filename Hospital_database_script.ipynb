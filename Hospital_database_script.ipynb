{
 "cells": [
  {
   "cell_type": "markdown",
   "id": "12a3518f",
   "metadata": {},
   "source": [
    "# Incubyte"
   ]
  },
  {
   "cell_type": "markdown",
   "id": "c29bb783",
   "metadata": {},
   "source": [
    "I own a Multi-Specialty Hospital chain with locations all across the world. My hospital is famous for Vaccination. Patients who come to my hospital (across the globe) will be given a User Card with which they can access any of my hospital in the world. Current Status: We maintain all customers in one database. There are heaps of customers with user cards to my hospital. So, I decided to split up the customers based on the country and load them into corresponding country tables. To pull the customers as per Country, my developers should know what are all the places the Customer Data is available. So, the data extracting will be done by our Source System. They will pull the all the relevant customer data and will give us a Data file."
   ]
  },
  {
   "cell_type": "markdown",
   "id": "70784198",
   "metadata": {},
   "source": [
    "Below code perform basic ETL operation and we can improve this code to take care of Edge cases as well"
   ]
  },
  {
   "cell_type": "markdown",
   "id": "c0badf36",
   "metadata": {},
   "source": [
    "## My approach"
   ]
  },
  {
   "cell_type": "markdown",
   "id": "9f15b9c8",
   "metadata": {},
   "source": [
    "1. Here I am using CSV File as source system and SQL database as Destination system.\n",
    "2. Requirements: -Jupyter note book to write python script and ssms for sql storage.\n",
    "3. Python script includes Object Oriented concept\n",
    "4. I have created class hospital which includes few methods to perform ETL work\n",
    "5. Init function will help us to connect to the database and i am passing Servername and database name as parameters.\n",
    "6. The create_table method table will help us to create new intermediate table/staging table where we load all the data from Source system.\n",
    "7. The bulk_insert  method/function will ingest the data to the created staging table.\n",
    "8. The Countrytable will perform few operations.\n",
    "   1. Fetch distinct country names from staging table\n",
    "   2. Loading country names to the list\n",
    "   3. Creates the separate table for each country in the list and will insert data of specific country data to the table"
   ]
  },
  {
   "cell_type": "code",
   "execution_count": 19,
   "id": "dbbe8871",
   "metadata": {},
   "outputs": [],
   "source": [
    "import pyodbc                              "
   ]
  },
  {
   "cell_type": "code",
   "execution_count": 17,
   "id": "27efdd2b",
   "metadata": {},
   "outputs": [],
   "source": [
    "class Hospital:\n",
    "    def __init__(self,Server, Database):\n",
    "        conn = pyodbc.connect('Driver={SQL Server};'+\n",
    "                      'Server={0};'.format(Server)+\n",
    "                      'Database={0};'.format(Database)+\n",
    "                      'Trusted_Connection=yes;')\n",
    "        conn.autocommit=True\n",
    "        self.cursor = conn.cursor()\n",
    "    \n",
    "    def create_table(self):\n",
    "        self.cursor.execute('DROP TABLE IF EXISTS stagingtable'.format())\n",
    "        self.cursor.execute(\"\"\" Create table stagingtable(Customerid varchar(MAX), Customername varchar(MAX), CustomerOpendate datetime, LastConsulteddate datetime, VaccinationType CHAR(100), Doctoreconsulted CHAR(100),State CHAR(100),Country CHAR(100),Postal_code INT,DOB datetime,Activecustomer CHAR(100))\"\"\".format())\n",
    "    \n",
    "   \n",
    "    def bulk_insert(self,file_path):\n",
    "            self.cursor.execute(\"\"\"BULK INSERT stagingtable FROM \"{0}\" WITH (FIRSTROW = 2,FIELDTERMINATOR='|',ROWTERMINATOR='\\\\n');\"\"\".format(file_path))\n",
    "    \n",
    "    \n",
    "    \n",
    "    def Countrytable(self):\n",
    "        countrylist=[]\n",
    "        self.cursor.execute('select distinct Country from dbo.stagingtable'.format())\n",
    "        result = self.cursor.fetchall()\n",
    "        for row in result:\n",
    "            countrylist.append(row[0])\n",
    "        for i in range(len(countrylist)):\n",
    "            self.cursor.execute('DROP TABLE IF EXISTS [{0}{1}]'.format(\"Country_\",countrylist[i]))\n",
    "            self.cursor.execute(\"SELECT Customerid,Customername, FORMAT([CustomerOpendate],'yyyyMMdd') as 'CustomerOpendate',FORMAT([LastConsulteddate],'yyyyMMdd') as 'LastConsulteddate',VaccinationType,Doctoreconsulted,State,Country,Postal_code, FORMAT([DOB],'yyyyMMdd') as 'DOB', Activecustomer INTO  [{0}{1}] FROM stagingtable WHERE Country='{1}'\".format(\"Country_\",countrylist[i]))\n",
    "             "
   ]
  },
  {
   "cell_type": "code",
   "execution_count": 18,
   "id": "0325d8c6",
   "metadata": {},
   "outputs": [],
   "source": [
    "hopitaldatabase = Hospital(\"Servername\", \"Hospital\") #reply Server name with Actual Server\n",
    "hopitaldatabase.create_table()\n",
    "file_path=\"C:\\\\Users\\\\chand\\\\Desktop\\\\Assignment\\\\Hospital_database\\\\mydata.csv\" # replace filepath\n",
    "hopitaldatabase.bulk_insert(file_path)\n",
    "hopitaldatabase.Countrytable()"
   ]
  },
  {
   "cell_type": "markdown",
   "id": "2a622146",
   "metadata": {},
   "source": [
    "# END"
   ]
  }
 ],
 "metadata": {
  "kernelspec": {
   "display_name": "Python 3",
   "language": "python",
   "name": "python3"
  },
  "language_info": {
   "codemirror_mode": {
    "name": "ipython",
    "version": 3
   },
   "file_extension": ".py",
   "mimetype": "text/x-python",
   "name": "python",
   "nbconvert_exporter": "python",
   "pygments_lexer": "ipython3",
   "version": "3.7.6"
  }
 },
 "nbformat": 4,
 "nbformat_minor": 5
}
